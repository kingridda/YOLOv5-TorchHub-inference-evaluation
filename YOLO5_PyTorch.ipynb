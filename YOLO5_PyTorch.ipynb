{
  "nbformat": 4,
  "nbformat_minor": 0,
  "metadata": {
    "colab": {
      "name": "YOLO5 pytorch PFA.ipynb",
      "provenance": []
    },
    "kernelspec": {
      "name": "python3",
      "display_name": "Python 3"
    },
    "language_info": {
      "name": "python"
    }
  },
  "cells": [
    {
      "cell_type": "code",
      "metadata": {
        "id": "cYL5LGndyxKc"
      },
      "source": [
        "#uplaoding some test images to the environment\n",
        "#https://drive.google.com/file/d/1A9e2tZ-EP7oLH1FU_KRfE7GXTS3-C40y/view?usp=sharing\n",
        "#https://drive.google.com/file/d/1TbzCbx-dQTxG67duFJHxAwq-sEQyPARm/view?usp=sharing\n",
        "#https://drive.google.com/file/d/1pCjy-GjGowyeE9KWe2_QHh2OMrkHnAMD/view?usp=sharing\n",
        "!gdown --id 1pCjy-GjGowyeE9KWe2_QHh2OMrkHnAMD\n",
        "!gdown --id 1TbzCbx-dQTxG67duFJHxAwq-sEQyPARm\n",
        "!gdown --id 1A9e2tZ-EP7oLH1FU_KRfE7GXTS3-C40y\n"
      ],
      "execution_count": null,
      "outputs": []
    },
    {
      "cell_type": "code",
      "metadata": {
        "id": "5y1oV9EqK6Eu"
      },
      "source": [
        "import torch\n",
        "from PIL import Image\n",
        "import cv2\n",
        "import numpy as np\n",
        "import time\n"
      ],
      "execution_count": null,
      "outputs": []
    },
    {
      "cell_type": "code",
      "metadata": {
        "id": "w_rIJKQzL4tl"
      },
      "source": [
        "#loading the model from torch hub\n",
        "model = torch.hub.load('ultralytics/yolov5', 'yolov5m')\n"
      ],
      "execution_count": null,
      "outputs": []
    },
    {
      "cell_type": "code",
      "metadata": {
        "id": "o0c9KPVmxgQo"
      },
      "source": [
        "#model layers detail\n",
        "model.named_children"
      ],
      "execution_count": null,
      "outputs": []
    },
    {
      "cell_type": "code",
      "metadata": {
        "id": "oI-jQjw9M3sg"
      },
      "source": [
        "#test on image (change the image to any other image on the env or upload your own image)\n",
        "image = Image.open('test.jpg')\n",
        "image"
      ],
      "execution_count": null,
      "outputs": []
    },
    {
      "cell_type": "code",
      "metadata": {
        "id": "LCUKNYwGM5jD"
      },
      "source": [
        "#check result\n",
        "result = model(image)\n",
        "result.save() #result saved in runs/hub/exp/\n",
        "Image.fromarray(result.render()[0])"
      ],
      "execution_count": null,
      "outputs": []
    },
    {
      "cell_type": "code",
      "metadata": {
        "id": "dmLXzTXgHu7y"
      },
      "source": [
        "#evaluating inference time\n",
        "#make sure colab runtime is on GPU mode\n",
        "\n",
        "input = np.random.rand(600,600,3) * 255\n",
        "input = Image.fromarray(input.astype('uint8')).convert('RGBA')\n",
        "\n",
        "if torch.cuda.is_available():\n",
        "   print('evaluation is taking place on GPU:')\n",
        "   model=model.to('cuda')\n",
        "else:\n",
        "  print('evaluation is taking place on CPU:')\n",
        "model.eval()\n",
        "model(input)\n",
        "T = 0\n",
        "for _ in range(5):\n",
        "    t1 = time.time()\n",
        "    model(input)\n",
        "    t2 = time.time()\n",
        "    T += (t2-t1)\n",
        "T /= 5\n",
        "print('YOLO inference time : %f s ===> %f FPS' % (T, 1/T)) \n"
      ],
      "execution_count": null,
      "outputs": []
    }
  ]
}